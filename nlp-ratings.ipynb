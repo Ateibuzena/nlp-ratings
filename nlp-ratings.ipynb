{
 "cells": [
  {
   "cell_type": "markdown",
   "metadata": {},
   "source": [
    "### **NLP_RATINGS, NUWE CHALLENGE**"
   ]
  },
  {
   "cell_type": "code",
   "execution_count": 49,
   "metadata": {},
   "outputs": [],
   "source": [
    "# Ahora puedes importar tus módulos\n",
    "from src.data_preprocessing import load_data, preprocess_text, vectorize_data\n",
    "from src.model import train_model, predict\n",
    "from src.evaluation import compute_metrics, get_classification_report, compute_confusion_matrix\n",
    "from src.cross_validation import perform_cross_validation\n",
    "from src.visualization import plot_confusion_matrix\n",
    "\n",
    "from sklearn.model_selection import train_test_split\n",
    "\n",
    "import json"
   ]
  },
  {
   "cell_type": "code",
   "execution_count": 50,
   "metadata": {},
   "outputs": [],
   "source": [
    "# Cargar datos\n",
    "train_data, test_data = load_data('train/train.csv', 'test/test.csv')\n",
    "\n",
    "# Preprocesar datos\n",
    "train_data, test_data = preprocess_text(train_data, test_data)"
   ]
  },
  {
   "cell_type": "code",
   "execution_count": 56,
   "metadata": {},
   "outputs": [
    {
     "data": {
      "text/plain": [
       "Summary      0\n",
       "Text         0\n",
       "full_text    0\n",
       "dtype: int64"
      ]
     },
     "execution_count": 56,
     "metadata": {},
     "output_type": "execute_result"
    }
   ],
   "source": [
    "# Comprobar si hay valores NaN en las columnas 'Summary' y 'Text'\n",
    "train_data[['Summary', 'Text', 'full_text']].isnull().sum()"
   ]
  },
  {
   "cell_type": "code",
   "execution_count": 55,
   "metadata": {},
   "outputs": [],
   "source": [
    "# Eliminar filas con NaN en 'Summary' o 'Text'\n",
    "train_data.dropna(subset=['Summary', 'Text'], inplace=True)"
   ]
  },
  {
   "cell_type": "code",
   "execution_count": 57,
   "metadata": {},
   "outputs": [
    {
     "data": {
      "text/plain": [
       "(20929, 4)"
      ]
     },
     "execution_count": 57,
     "metadata": {},
     "output_type": "execute_result"
    }
   ],
   "source": [
    "train_data.shape"
   ]
  },
  {
   "cell_type": "code",
   "execution_count": 58,
   "metadata": {},
   "outputs": [
    {
     "data": {
      "text/html": [
       "<div>\n",
       "<style scoped>\n",
       "    .dataframe tbody tr th:only-of-type {\n",
       "        vertical-align: middle;\n",
       "    }\n",
       "\n",
       "    .dataframe tbody tr th {\n",
       "        vertical-align: top;\n",
       "    }\n",
       "\n",
       "    .dataframe thead th {\n",
       "        text-align: right;\n",
       "    }\n",
       "</style>\n",
       "<table border=\"1\" class=\"dataframe\">\n",
       "  <thead>\n",
       "    <tr style=\"text-align: right;\">\n",
       "      <th></th>\n",
       "      <th>Score</th>\n",
       "      <th>Summary</th>\n",
       "      <th>Text</th>\n",
       "      <th>full_text</th>\n",
       "    </tr>\n",
       "  </thead>\n",
       "  <tbody>\n",
       "    <tr>\n",
       "      <th>0</th>\n",
       "      <td>1</td>\n",
       "      <td>Why the white tea blend?</td>\n",
       "      <td>I really cannot emphasize how disappointed I a...</td>\n",
       "      <td>Why the white tea blend? I really cannot empha...</td>\n",
       "    </tr>\n",
       "    <tr>\n",
       "      <th>1</th>\n",
       "      <td>1</td>\n",
       "      <td>Horrible quality</td>\n",
       "      <td>The shipment I received had soooooo much powde...</td>\n",
       "      <td>Horrible quality The shipment I received had s...</td>\n",
       "    </tr>\n",
       "    <tr>\n",
       "      <th>2</th>\n",
       "      <td>4</td>\n",
       "      <td>The Jalapeno Story</td>\n",
       "      <td>I love the taste of jalapenos but not if they'...</td>\n",
       "      <td>The Jalapeno Story I love the taste of jalapen...</td>\n",
       "    </tr>\n",
       "    <tr>\n",
       "      <th>3</th>\n",
       "      <td>5</td>\n",
       "      <td>Addictive!</td>\n",
       "      <td>These sunflower seeds are incredible.  They ar...</td>\n",
       "      <td>Addictive! These sunflower seeds are incredibl...</td>\n",
       "    </tr>\n",
       "    <tr>\n",
       "      <th>4</th>\n",
       "      <td>5</td>\n",
       "      <td>Brings back memories of my Mother's lemon pies</td>\n",
       "      <td>My sister and I were discussing how delicious ...</td>\n",
       "      <td>Brings back memories of my Mother's lemon pies...</td>\n",
       "    </tr>\n",
       "  </tbody>\n",
       "</table>\n",
       "</div>"
      ],
      "text/plain": [
       "   Score                                         Summary  \\\n",
       "0      1                        Why the white tea blend?   \n",
       "1      1                                Horrible quality   \n",
       "2      4                              The Jalapeno Story   \n",
       "3      5                                      Addictive!   \n",
       "4      5  Brings back memories of my Mother's lemon pies   \n",
       "\n",
       "                                                Text  \\\n",
       "0  I really cannot emphasize how disappointed I a...   \n",
       "1  The shipment I received had soooooo much powde...   \n",
       "2  I love the taste of jalapenos but not if they'...   \n",
       "3  These sunflower seeds are incredible.  They ar...   \n",
       "4  My sister and I were discussing how delicious ...   \n",
       "\n",
       "                                           full_text  \n",
       "0  Why the white tea blend? I really cannot empha...  \n",
       "1  Horrible quality The shipment I received had s...  \n",
       "2  The Jalapeno Story I love the taste of jalapen...  \n",
       "3  Addictive! These sunflower seeds are incredibl...  \n",
       "4  Brings back memories of my Mother's lemon pies...  "
      ]
     },
     "execution_count": 58,
     "metadata": {},
     "output_type": "execute_result"
    }
   ],
   "source": [
    "train_data.head()"
   ]
  },
  {
   "cell_type": "code",
   "execution_count": 61,
   "metadata": {},
   "outputs": [
    {
     "data": {
      "text/plain": [
       "Summary      0\n",
       "Text         0\n",
       "full_text    0\n",
       "dtype: int64"
      ]
     },
     "execution_count": 61,
     "metadata": {},
     "output_type": "execute_result"
    }
   ],
   "source": [
    "test_data[['Summary', 'Text', 'full_text']].isnull().sum()"
   ]
  },
  {
   "cell_type": "code",
   "execution_count": 60,
   "metadata": {},
   "outputs": [
    {
     "name": "stderr",
     "output_type": "stream",
     "text": [
      "/tmp/ipykernel_971639/3479742887.py:2: FutureWarning: A value is trying to be set on a copy of a DataFrame or Series through chained assignment using an inplace method.\n",
      "The behavior will change in pandas 3.0. This inplace method will never work because the intermediate object on which we are setting values always behaves as a copy.\n",
      "\n",
      "For example, when doing 'df[col].method(value, inplace=True)', try using 'df.method({col: value}, inplace=True)' or df[col] = df[col].method(value) instead, to perform the operation inplace on the original object.\n",
      "\n",
      "\n",
      "  test_data['Summary'].fillna('No summary', inplace=True)\n",
      "/tmp/ipykernel_971639/3479742887.py:3: FutureWarning: A value is trying to be set on a copy of a DataFrame or Series through chained assignment using an inplace method.\n",
      "The behavior will change in pandas 3.0. This inplace method will never work because the intermediate object on which we are setting values always behaves as a copy.\n",
      "\n",
      "For example, when doing 'df[col].method(value, inplace=True)', try using 'df.method({col: value}, inplace=True)' or df[col] = df[col].method(value) instead, to perform the operation inplace on the original object.\n",
      "\n",
      "\n",
      "  test_data['Text'].fillna('No text', inplace=True)\n",
      "/tmp/ipykernel_971639/3479742887.py:4: FutureWarning: A value is trying to be set on a copy of a DataFrame or Series through chained assignment using an inplace method.\n",
      "The behavior will change in pandas 3.0. This inplace method will never work because the intermediate object on which we are setting values always behaves as a copy.\n",
      "\n",
      "For example, when doing 'df[col].method(value, inplace=True)', try using 'df.method({col: value}, inplace=True)' or df[col] = df[col].method(value) instead, to perform the operation inplace on the original object.\n",
      "\n",
      "\n",
      "  test_data['full_text'].fillna('No text No summary', inplace=True)\n"
     ]
    }
   ],
   "source": [
    "# Imputar valores nulos con un texto genérico\n",
    "test_data['Summary'].fillna('No summary', inplace=True)\n",
    "test_data['Text'].fillna('No text', inplace=True)\n",
    "test_data['full_text'].fillna('No text No summary', inplace=True)"
   ]
  },
  {
   "cell_type": "code",
   "execution_count": 62,
   "metadata": {},
   "outputs": [
    {
     "data": {
      "text/plain": [
       "(9000, 4)"
      ]
     },
     "execution_count": 62,
     "metadata": {},
     "output_type": "execute_result"
    }
   ],
   "source": [
    "test_data.shape"
   ]
  },
  {
   "cell_type": "code",
   "execution_count": 63,
   "metadata": {},
   "outputs": [
    {
     "data": {
      "text/html": [
       "<div>\n",
       "<style scoped>\n",
       "    .dataframe tbody tr th:only-of-type {\n",
       "        vertical-align: middle;\n",
       "    }\n",
       "\n",
       "    .dataframe tbody tr th {\n",
       "        vertical-align: top;\n",
       "    }\n",
       "\n",
       "    .dataframe thead th {\n",
       "        text-align: right;\n",
       "    }\n",
       "</style>\n",
       "<table border=\"1\" class=\"dataframe\">\n",
       "  <thead>\n",
       "    <tr style=\"text-align: right;\">\n",
       "      <th></th>\n",
       "      <th>Test_id</th>\n",
       "      <th>Summary</th>\n",
       "      <th>Text</th>\n",
       "      <th>full_text</th>\n",
       "    </tr>\n",
       "  </thead>\n",
       "  <tbody>\n",
       "    <tr>\n",
       "      <th>0</th>\n",
       "      <td>1</td>\n",
       "      <td>Smooth</td>\n",
       "      <td>This is so far my favorite K-Cup.  Very rich, ...</td>\n",
       "      <td>Smooth This is so far my favorite K-Cup.  Very...</td>\n",
       "    </tr>\n",
       "    <tr>\n",
       "      <th>1</th>\n",
       "      <td>2</td>\n",
       "      <td>Full Bodied, Rich Taste</td>\n",
       "      <td>I recently was in Winthrop on vacation and had...</td>\n",
       "      <td>Full Bodied, Rich Taste I recently was in Wint...</td>\n",
       "    </tr>\n",
       "    <tr>\n",
       "      <th>2</th>\n",
       "      <td>3</td>\n",
       "      <td>first time bonsai -- fantastic!</td>\n",
       "      <td>For your first bonsai plant..</td>\n",
       "      <td>first time bonsai -- fantastic! For your first...</td>\n",
       "    </tr>\n",
       "    <tr>\n",
       "      <th>3</th>\n",
       "      <td>4</td>\n",
       "      <td>very tasty :)</td>\n",
       "      <td>This sesame oil is rich and aromatic, definite...</td>\n",
       "      <td>very tasty :) This sesame oil is rich and arom...</td>\n",
       "    </tr>\n",
       "    <tr>\n",
       "      <th>4</th>\n",
       "      <td>5</td>\n",
       "      <td>Are you kidding me?</td>\n",
       "      <td>I can not believe the lack of packaging from t...</td>\n",
       "      <td>Are you kidding me? I can not believe the lack...</td>\n",
       "    </tr>\n",
       "  </tbody>\n",
       "</table>\n",
       "</div>"
      ],
      "text/plain": [
       "   Test_id                          Summary  \\\n",
       "0        1                           Smooth   \n",
       "1        2          Full Bodied, Rich Taste   \n",
       "2        3  first time bonsai -- fantastic!   \n",
       "3        4                    very tasty :)   \n",
       "4        5              Are you kidding me?   \n",
       "\n",
       "                                                Text  \\\n",
       "0  This is so far my favorite K-Cup.  Very rich, ...   \n",
       "1  I recently was in Winthrop on vacation and had...   \n",
       "2                      For your first bonsai plant..   \n",
       "3  This sesame oil is rich and aromatic, definite...   \n",
       "4  I can not believe the lack of packaging from t...   \n",
       "\n",
       "                                           full_text  \n",
       "0  Smooth This is so far my favorite K-Cup.  Very...  \n",
       "1  Full Bodied, Rich Taste I recently was in Wint...  \n",
       "2  first time bonsai -- fantastic! For your first...  \n",
       "3  very tasty :) This sesame oil is rich and arom...  \n",
       "4  Are you kidding me? I can not believe the lack...  "
      ]
     },
     "execution_count": 63,
     "metadata": {},
     "output_type": "execute_result"
    }
   ],
   "source": [
    "test_data.head()"
   ]
  },
  {
   "cell_type": "code",
   "execution_count": 64,
   "metadata": {},
   "outputs": [],
   "source": [
    "# Preparar la variable objetivo\n",
    "y_train = train_data['Score']"
   ]
  },
  {
   "cell_type": "code",
   "execution_count": 65,
   "metadata": {},
   "outputs": [],
   "source": [
    "test_id = test_data['Test_id']"
   ]
  },
  {
   "cell_type": "code",
   "execution_count": 66,
   "metadata": {},
   "outputs": [],
   "source": [
    "train_data.drop('Score', axis=1, inplace=True)\n",
    "test_data.drop('Test_id', axis=1, inplace=True)"
   ]
  },
  {
   "cell_type": "code",
   "execution_count": 67,
   "metadata": {},
   "outputs": [
    {
     "data": {
      "text/plain": [
       "Index(['Summary', 'Text', 'full_text'], dtype='object')"
      ]
     },
     "execution_count": 67,
     "metadata": {},
     "output_type": "execute_result"
    }
   ],
   "source": [
    "train_data.columns"
   ]
  },
  {
   "cell_type": "code",
   "execution_count": 68,
   "metadata": {},
   "outputs": [],
   "source": [
    "# Vectorizar datos\n",
    "X_train, X_test, vectorizer = vectorize_data(train_data, test_data)"
   ]
  },
  {
   "cell_type": "code",
   "execution_count": 69,
   "metadata": {},
   "outputs": [],
   "source": [
    "X_train, X_val, y_train, y_val = train_test_split(X_train, y_train, test_size=0.2, random_state=42)"
   ]
  },
  {
   "cell_type": "code",
   "execution_count": 70,
   "metadata": {},
   "outputs": [],
   "source": [
    "# Entrenar el modelo\n",
    "model = train_model(X_train, y_train)\n",
    "\n",
    "# Predicciones\n",
    "y_val_pred = predict(model, X_val)"
   ]
  },
  {
   "cell_type": "code",
   "execution_count": 71,
   "metadata": {},
   "outputs": [
    {
     "name": "stdout",
     "output_type": "stream",
     "text": [
      "F1 Score: 0.6017041621619685\n",
      "Precision: 0.5976499277304537\n",
      "Recall: 0.6669851887243191\n"
     ]
    }
   ],
   "source": [
    "# Calcular métricas\n",
    "f1, precision, recall = compute_metrics(y_val, y_val_pred)\n",
    "print(f'F1 Score: {f1}')\n",
    "print(f'Precision: {precision}')\n",
    "print(f'Recall: {recall}')"
   ]
  },
  {
   "cell_type": "code",
   "execution_count": 72,
   "metadata": {},
   "outputs": [
    {
     "name": "stdout",
     "output_type": "stream",
     "text": [
      "              precision    recall  f1-score   support\n",
      "\n",
      "           1       0.55      0.42      0.48       384\n",
      "           2       0.31      0.05      0.08       242\n",
      "           3       0.40      0.16      0.22       316\n",
      "           4       0.38      0.14      0.20       644\n",
      "           5       0.71      0.95      0.81      2600\n",
      "\n",
      "    accuracy                           0.67      4186\n",
      "   macro avg       0.47      0.34      0.36      4186\n",
      "weighted avg       0.60      0.67      0.60      4186\n",
      "\n"
     ]
    }
   ],
   "source": [
    "# Obtener el reporte de clasificación\n",
    "report = get_classification_report(y_val, y_val_pred)\n",
    "print(report)"
   ]
  },
  {
   "cell_type": "code",
   "execution_count": 73,
   "metadata": {},
   "outputs": [
    {
     "data": {
      "image/png": "[encoded data removed]",
      "text/plain": [
       "<Figure size 640x480 with 2 Axes>"
      ]
     },
     "metadata": {},
     "output_type": "display_data"
    }
   ],
   "source": [
    "# Visualizar la matriz de confusión\n",
    "plot_confusion_matrix(y_val, y_val_pred)"
   ]
  },
  {
   "cell_type": "code",
   "execution_count": 74,
   "metadata": {},
   "outputs": [
    {
     "name": "stdout",
     "output_type": "stream",
     "text": [
      "Cross-validated F1 Score: 0.6183051117852976\n"
     ]
    }
   ],
   "source": [
    "# Realizar validación cruzada (opcional)\n",
    "cv_score = perform_cross_validation(model, X_train, y_train)\n",
    "print(f'Cross-validated F1 Score: {cv_score}')"
   ]
  },
  {
   "cell_type": "code",
   "execution_count": 75,
   "metadata": {},
   "outputs": [],
   "source": [
    "# Realizar predicciones para el conjunto de test entregado\n",
    "predictions = model.predict(X_test)"
   ]
  },
  {
   "cell_type": "code",
   "execution_count": 76,
   "metadata": {},
   "outputs": [],
   "source": [
    "predictions = predictions.tolist()"
   ]
  },
  {
   "cell_type": "code",
   "execution_count": 77,
   "metadata": {},
   "outputs": [],
   "source": [
    "test_data['Test_id'] = test_id"
   ]
  },
  {
   "cell_type": "code",
   "execution_count": 78,
   "metadata": {},
   "outputs": [],
   "source": [
    "# Crear el diccionario de predicciones\n",
    "predictions_dict = {\n",
    "    \"target\": dict(zip(test_data['Test_id'], predictions))\n",
    "}"
   ]
  },
  {
   "cell_type": "code",
   "execution_count": 81,
   "metadata": {},
   "outputs": [
    {
     "data": {
      "text/plain": [
       "9000"
      ]
     },
     "execution_count": 81,
     "metadata": {},
     "output_type": "execute_result"
    }
   ],
   "source": [
    "len(predictions_dict[\"target\"])"
   ]
  },
  {
   "cell_type": "code",
   "execution_count": 79,
   "metadata": {},
   "outputs": [],
   "source": [
    "# Guardar las predicciones en formato JSON\n",
    "with open('predictions/predictions.json', 'w') as f:\n",
    "    json.dump(predictions_dict, f)"
   ]
  },
  {
   "cell_type": "markdown",
   "metadata": {},
   "source": []
  }
 ],
 "metadata": {
  "kernelspec": {
   "display_name": ".venv",
   "language": "python",
   "name": "python3"
  },
  "language_info": {
   "codemirror_mode": {
    "name": "ipython",
    "version": 3
   },
   "file_extension": ".py",
   "mimetype": "text/x-python",
   "name": "python",
   "nbconvert_exporter": "python",
   "pygments_lexer": "ipython3",
   "version": "3.10.12"
  }
 },
 "nbformat": 4,
 "nbformat_minor": 2
}
